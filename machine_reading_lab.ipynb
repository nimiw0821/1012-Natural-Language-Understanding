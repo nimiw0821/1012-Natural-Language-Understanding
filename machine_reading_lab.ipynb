{
  "nbformat": 4,
  "nbformat_minor": 0,
  "metadata": {
    "colab": {
      "name": "machine_reading_lab",
      "provenance": [],
      "collapsed_sections": [],
      "machine_shape": "hm",
      "include_colab_link": true
    },
    "kernelspec": {
      "name": "python3",
      "display_name": "Python 3"
    },
    "accelerator": "GPU"
  },
  "cells": [
    {
      "cell_type": "markdown",
      "metadata": {
        "id": "view-in-github",
        "colab_type": "text"
      },
      "source": [
        "<a href=\"https://colab.research.google.com/github/nimiw0821/1012-Natural-Language-Understanding/blob/master/machine_reading_lab.ipynb\" target=\"_parent\"><img src=\"https://colab.research.google.com/assets/colab-badge.svg\" alt=\"Open In Colab\"/></a>"
      ]
    },
    {
      "cell_type": "markdown",
      "metadata": {
        "id": "80yCSMZ8f6Iz",
        "colab_type": "text"
      },
      "source": [
        "# BiDaf (paper)\n",
        "https://arxiv.org/pdf/1611.01603.pdf"
      ]
    },
    {
      "cell_type": "code",
      "metadata": {
        "id": "kOeMm99DCVUx",
        "colab_type": "code",
        "outputId": "c857d343-2591-4da0-f2bf-2ed7ce5f9860",
        "colab": {
          "base_uri": "https://localhost:8080/",
          "height": 119
        }
      },
      "source": [
        "! git clone https://github.com/williamFalcon/squad.git"
      ],
      "execution_count": 0,
      "outputs": [
        {
          "output_type": "stream",
          "text": [
            "Cloning into 'squad'...\n",
            "remote: Enumerating objects: 14, done.\u001b[K\n",
            "remote: Counting objects: 100% (14/14), done.\u001b[K\n",
            "remote: Compressing objects: 100% (14/14), done.\u001b[K\n",
            "remote: Total 47 (delta 5), reused 3 (delta 0), pack-reused 33\u001b[K\n",
            "Unpacking objects: 100% (47/47), done.\n"
          ],
          "name": "stdout"
        }
      ]
    },
    {
      "cell_type": "code",
      "metadata": {
        "id": "Rx6dG678MJV_",
        "colab_type": "code",
        "outputId": "19a9d91b-0e6c-4d1f-9b33-edfbf8059ab9",
        "colab": {
          "base_uri": "https://localhost:8080/",
          "height": 204
        }
      },
      "source": [
        "! cd squad/ && git pull"
      ],
      "execution_count": 0,
      "outputs": [
        {
          "output_type": "stream",
          "text": [
            "remote: Enumerating objects: 5, done.\u001b[K\n",
            "remote: Counting objects:  20% (1/5)\u001b[K\rremote: Counting objects:  40% (2/5)\u001b[K\rremote: Counting objects:  60% (3/5)\u001b[K\rremote: Counting objects:  80% (4/5)\u001b[K\rremote: Counting objects: 100% (5/5)\u001b[K\rremote: Counting objects: 100% (5/5), done.\u001b[K\n",
            "remote: Compressing objects:  33% (1/3)\u001b[K\rremote: Compressing objects:  66% (2/3)\u001b[K\rremote: Compressing objects: 100% (3/3)\u001b[K\rremote: Compressing objects: 100% (3/3), done.\u001b[K\n",
            "remote: Total 3 (delta 2), reused 0 (delta 0), pack-reused 0\u001b[K\n",
            "Unpacking objects:  33% (1/3)   \rUnpacking objects:  66% (2/3)   \rUnpacking objects: 100% (3/3)   \rUnpacking objects: 100% (3/3), done.\n",
            "From https://github.com/williamFalcon/squad\n",
            "   1ad045b..aae0450  master     -> origin/master\n",
            "Updating 1ad045b..aae0450\n",
            "Fast-forward\n",
            " layers.py | 2 \u001b[32m+\u001b[m\u001b[31m-\u001b[m\n",
            " 1 file changed, 1 insertion(+), 1 deletion(-)\n"
          ],
          "name": "stdout"
        }
      ]
    },
    {
      "cell_type": "code",
      "metadata": {
        "id": "lD88KWboLTYo",
        "colab_type": "code",
        "outputId": "4d4d7845-ff05-40fc-8631-7b2d96ecb5da",
        "colab": {
          "base_uri": "https://localhost:8080/",
          "height": 51
        }
      },
      "source": [
        "! ls squad"
      ],
      "execution_count": 0,
      "outputs": [
        {
          "output_type": "stream",
          "text": [
            "args.py  environment.yml  LICENSE    README.md\tsetup.py  train.py\n",
            "data\t layers.py\t  models.py  save\ttest.py   util.py\n"
          ],
          "name": "stdout"
        }
      ]
    },
    {
      "cell_type": "code",
      "metadata": {
        "id": "onBjkO7CKveG",
        "colab_type": "code",
        "outputId": "275f1cd5-784c-48be-82f9-4cda7deef452",
        "colab": {
          "base_uri": "https://localhost:8080/",
          "height": 1000
        }
      },
      "source": [
        "!pip install pytorch-lightning"
      ],
      "execution_count": 0,
      "outputs": [
        {
          "output_type": "stream",
          "text": [
            "Collecting pytorch-lightning\n",
            "\u001b[?25l  Downloading https://files.pythonhosted.org/packages/98/3e/271adc302dc7cc1afeaf4f22fe28af1afecccb3b9bbd7eec45ac7b7eb2f5/pytorch-lightning-0.5.3.2.tar.gz (65kB)\n",
            "\u001b[K     |████████████████████████████████| 71kB 2.2MB/s \n",
            "\u001b[?25hCollecting scikit-learn==0.20.2\n",
            "\u001b[?25l  Downloading https://files.pythonhosted.org/packages/0d/3a/b92670f5c368c20329ecc4c255993fae7934564d485c3ed7ea7b8da7f741/scikit_learn-0.20.2-cp36-cp36m-manylinux1_x86_64.whl (5.4MB)\n",
            "\u001b[K     |████████████████████████████████| 5.4MB 6.4MB/s \n",
            "\u001b[?25hCollecting tqdm==4.35.0\n",
            "\u001b[?25l  Downloading https://files.pythonhosted.org/packages/dc/88/d3213e2f3492daf09d8b41631ad6899f56db17ce83ea9c8a579902bafe5e/tqdm-4.35.0-py2.py3-none-any.whl (50kB)\n",
            "\u001b[K     |████████████████████████████████| 51kB 7.8MB/s \n",
            "\u001b[?25hCollecting numpy==1.16.4\n",
            "\u001b[?25l  Downloading https://files.pythonhosted.org/packages/87/2d/e4656149cbadd3a8a0369fcd1a9c7d61cc7b87b3903b85389c70c989a696/numpy-1.16.4-cp36-cp36m-manylinux1_x86_64.whl (17.3MB)\n",
            "\u001b[K     |████████████████████████████████| 17.3MB 53.8MB/s \n",
            "\u001b[?25hRequirement already satisfied: torch>=1.2.0 in /usr/local/lib/python3.6/dist-packages (from pytorch-lightning) (1.3.1+cu100)\n",
            "Requirement already satisfied: torchvision>=0.3.0 in /usr/local/lib/python3.6/dist-packages (from pytorch-lightning) (0.4.2+cu100)\n",
            "Requirement already satisfied: pandas>=0.20.3 in /usr/local/lib/python3.6/dist-packages (from pytorch-lightning) (0.25.3)\n",
            "Collecting test-tube>=0.6.9\n",
            "  Downloading https://files.pythonhosted.org/packages/b8/ba/0b6b8465bc6bebd57d3b66d7838fcf2835ee0978932543bc5ae3e6a067ff/test_tube-0.7.3.tar.gz\n",
            "Requirement already satisfied: scipy>=0.13.3 in /usr/local/lib/python3.6/dist-packages (from scikit-learn==0.20.2->pytorch-lightning) (1.3.2)\n",
            "Requirement already satisfied: pillow>=4.1.1 in /usr/local/lib/python3.6/dist-packages (from torchvision>=0.3.0->pytorch-lightning) (4.3.0)\n",
            "Requirement already satisfied: six in /usr/local/lib/python3.6/dist-packages (from torchvision>=0.3.0->pytorch-lightning) (1.12.0)\n",
            "Requirement already satisfied: pytz>=2017.2 in /usr/local/lib/python3.6/dist-packages (from pandas>=0.20.3->pytorch-lightning) (2018.9)\n",
            "Requirement already satisfied: python-dateutil>=2.6.1 in /usr/local/lib/python3.6/dist-packages (from pandas>=0.20.3->pytorch-lightning) (2.6.1)\n",
            "Requirement already satisfied: imageio>=2.3.0 in /usr/local/lib/python3.6/dist-packages (from test-tube>=0.6.9->pytorch-lightning) (2.4.1)\n",
            "Collecting tb-nightly==1.15.0a20190708\n",
            "\u001b[?25l  Downloading https://files.pythonhosted.org/packages/b1/98/fa38deb0d26db3c88fc3c3267c622508648df9d67242d8a4d15c2f6bab08/tb_nightly-1.15.0a20190708-py3-none-any.whl (3.9MB)\n",
            "\u001b[K     |████████████████████████████████| 3.9MB 27.0MB/s \n",
            "\u001b[?25hRequirement already satisfied: future in /usr/local/lib/python3.6/dist-packages (from test-tube>=0.6.9->pytorch-lightning) (0.16.0)\n",
            "Requirement already satisfied: olefile in /usr/local/lib/python3.6/dist-packages (from pillow>=4.1.1->torchvision>=0.3.0->pytorch-lightning) (0.46)\n",
            "Requirement already satisfied: werkzeug>=0.11.15 in /usr/local/lib/python3.6/dist-packages (from tb-nightly==1.15.0a20190708->test-tube>=0.6.9->pytorch-lightning) (0.16.0)\n",
            "Requirement already satisfied: absl-py>=0.4 in /usr/local/lib/python3.6/dist-packages (from tb-nightly==1.15.0a20190708->test-tube>=0.6.9->pytorch-lightning) (0.8.1)\n",
            "Requirement already satisfied: markdown>=2.6.8 in /usr/local/lib/python3.6/dist-packages (from tb-nightly==1.15.0a20190708->test-tube>=0.6.9->pytorch-lightning) (3.1.1)\n",
            "Requirement already satisfied: grpcio>=1.6.3 in /usr/local/lib/python3.6/dist-packages (from tb-nightly==1.15.0a20190708->test-tube>=0.6.9->pytorch-lightning) (1.15.0)\n",
            "Requirement already satisfied: wheel>=0.26; python_version >= \"3\" in /usr/local/lib/python3.6/dist-packages (from tb-nightly==1.15.0a20190708->test-tube>=0.6.9->pytorch-lightning) (0.33.6)\n",
            "Requirement already satisfied: setuptools>=41.0.0 in /usr/local/lib/python3.6/dist-packages (from tb-nightly==1.15.0a20190708->test-tube>=0.6.9->pytorch-lightning) (41.4.0)\n",
            "Requirement already satisfied: protobuf>=3.6.0 in /usr/local/lib/python3.6/dist-packages (from tb-nightly==1.15.0a20190708->test-tube>=0.6.9->pytorch-lightning) (3.10.0)\n",
            "Building wheels for collected packages: pytorch-lightning, test-tube\n",
            "  Building wheel for pytorch-lightning (setup.py) ... \u001b[?25l\u001b[?25hdone\n",
            "  Created wheel for pytorch-lightning: filename=pytorch_lightning-0.5.3.2-cp36-none-any.whl size=76809 sha256=ebdc177f15cf2d457696b29892a6e7c051064c2720a1972a090feda1da320cf8\n",
            "  Stored in directory: /root/.cache/pip/wheels/11/15/89/461396b8cb92adba1162a289db63c90eb31be34bceabbec77e\n",
            "  Building wheel for test-tube (setup.py) ... \u001b[?25l\u001b[?25hdone\n",
            "  Created wheel for test-tube: filename=test_tube-0.7.3-cp36-none-any.whl size=25049 sha256=2572050a5d0a5346a1813897486f9fb0e42ed6710cdcfdf868d75aecc4b1f0e3\n",
            "  Stored in directory: /root/.cache/pip/wheels/17/1e/50/6f5b5212af4108ab6055a9c6a869550c8631270317219a0ea8\n",
            "Successfully built pytorch-lightning test-tube\n",
            "\u001b[31mERROR: datascience 0.10.6 has requirement folium==0.2.1, but you'll have folium 0.8.3 which is incompatible.\u001b[0m\n",
            "\u001b[31mERROR: albumentations 0.1.12 has requirement imgaug<0.2.7,>=0.2.5, but you'll have imgaug 0.2.9 which is incompatible.\u001b[0m\n",
            "Installing collected packages: numpy, scikit-learn, tqdm, tb-nightly, test-tube, pytorch-lightning\n",
            "  Found existing installation: numpy 1.17.4\n",
            "    Uninstalling numpy-1.17.4:\n",
            "      Successfully uninstalled numpy-1.17.4\n",
            "  Found existing installation: scikit-learn 0.21.3\n",
            "    Uninstalling scikit-learn-0.21.3:\n",
            "      Successfully uninstalled scikit-learn-0.21.3\n",
            "  Found existing installation: tqdm 4.28.1\n",
            "    Uninstalling tqdm-4.28.1:\n",
            "      Successfully uninstalled tqdm-4.28.1\n",
            "Successfully installed numpy-1.16.4 pytorch-lightning-0.5.3.2 scikit-learn-0.20.2 tb-nightly-1.15.0a20190708 test-tube-0.7.3 tqdm-4.35.0\n"
          ],
          "name": "stdout"
        },
        {
          "output_type": "display_data",
          "data": {
            "application/vnd.colab-display-data+json": {
              "pip_warning": {
                "packages": [
                  "numpy",
                  "tqdm"
                ]
              }
            }
          },
          "metadata": {
            "tags": []
          }
        }
      ]
    },
    {
      "cell_type": "code",
      "metadata": {
        "id": "MqPfv6_7CwdQ",
        "colab_type": "code",
        "outputId": "6a1ff73b-5ee4-4cba-cf8f-396ad6b840e0",
        "colab": {
          "base_uri": "https://localhost:8080/",
          "height": 187
        }
      },
      "source": [
        "! pip install ujson"
      ],
      "execution_count": 0,
      "outputs": [
        {
          "output_type": "stream",
          "text": [
            "Collecting ujson\n",
            "\u001b[?25l  Downloading https://files.pythonhosted.org/packages/16/c4/79f3409bc710559015464e5f49b9879430d8f87498ecdc335899732e5377/ujson-1.35.tar.gz (192kB)\n",
            "\r\u001b[K     |█▊                              | 10kB 29.6MB/s eta 0:00:01\r\u001b[K     |███▍                            | 20kB 1.6MB/s eta 0:00:01\r\u001b[K     |█████▏                          | 30kB 2.4MB/s eta 0:00:01\r\u001b[K     |██████▉                         | 40kB 1.6MB/s eta 0:00:01\r\u001b[K     |████████▌                       | 51kB 2.0MB/s eta 0:00:01\r\u001b[K     |██████████▎                     | 61kB 2.3MB/s eta 0:00:01\r\u001b[K     |████████████                    | 71kB 2.7MB/s eta 0:00:01\r\u001b[K     |█████████████▋                  | 81kB 3.1MB/s eta 0:00:01\r\u001b[K     |███████████████▍                | 92kB 3.5MB/s eta 0:00:01\r\u001b[K     |█████████████████               | 102kB 2.6MB/s eta 0:00:01\r\u001b[K     |██████████████████▊             | 112kB 2.6MB/s eta 0:00:01\r\u001b[K     |████████████████████▌           | 122kB 2.6MB/s eta 0:00:01\r\u001b[K     |██████████████████████▏         | 133kB 2.6MB/s eta 0:00:01\r\u001b[K     |████████████████████████        | 143kB 2.6MB/s eta 0:00:01\r\u001b[K     |█████████████████████████▋      | 153kB 2.6MB/s eta 0:00:01\r\u001b[K     |███████████████████████████▎    | 163kB 2.6MB/s eta 0:00:01\r\u001b[K     |█████████████████████████████   | 174kB 2.6MB/s eta 0:00:01\r\u001b[K     |██████████████████████████████▊ | 184kB 2.6MB/s eta 0:00:01\r\u001b[K     |████████████████████████████████| 194kB 2.6MB/s \n",
            "\u001b[?25hBuilding wheels for collected packages: ujson\n",
            "  Building wheel for ujson (setup.py) ... \u001b[?25l\u001b[?25hdone\n",
            "  Created wheel for ujson: filename=ujson-1.35-cp36-cp36m-linux_x86_64.whl size=68033 sha256=07b3b12f2f0567845a455131819fa67a6d502a95366a9b096c8d0312963944ea\n",
            "  Stored in directory: /root/.cache/pip/wheels/28/77/e4/0311145b9c2e2f01470e744855131f9e34d6919687550f87d1\n",
            "Successfully built ujson\n",
            "Installing collected packages: ujson\n",
            "Successfully installed ujson-1.35\n"
          ],
          "name": "stdout"
        }
      ]
    },
    {
      "cell_type": "code",
      "metadata": {
        "id": "gjUmZOnjCpyM",
        "colab_type": "code",
        "outputId": "ae92c4f3-5e85-46b7-acd1-585f892db82c",
        "colab": {
          "base_uri": "https://localhost:8080/",
          "height": 785
        }
      },
      "source": [
        "! cd squad/ && python setup.py"
      ],
      "execution_count": 0,
      "outputs": [
        {
          "output_type": "stream",
          "text": [
            "Downloading GloVe word vectors...\n",
            "glove.840B.300d.zip: 2.18GB [16:57, 2.14MB/s]                \n",
            "Unzipping GloVe word vectors...\n",
            "Downloading spacy language model...\n",
            "Requirement already satisfied: en_core_web_sm==2.1.0 from https://github.com/explosion/spacy-models/releases/download/en_core_web_sm-2.1.0/en_core_web_sm-2.1.0.tar.gz#egg=en_core_web_sm==2.1.0 in /usr/local/lib/python3.6/dist-packages (2.1.0)\n",
            "\u001b[38;5;2m✔ Download and installation successful\u001b[0m\n",
            "You can now load the model via spacy.load('en_core_web_sm')\n",
            "\u001b[38;5;2m✔ Linking successful\u001b[0m\n",
            "/usr/local/lib/python3.6/dist-packages/en_core_web_sm -->\n",
            "/usr/local/lib/python3.6/dist-packages/spacy/data/en\n",
            "You can now load the model via spacy.load('en')\n",
            "Pre-processing train examples...\n",
            "100% 442/442 [01:28<00:00,  5.01it/s]\n",
            "130319 questions in total\n",
            "Pre-processing word vectors...\n",
            "2196018it [02:43, 13399.84it/s]                 \n",
            "88744 / 107454 tokens have corresponding word embedding vector\n",
            "Pre-processing char vectors...\n",
            "1374 tokens have corresponding char embedding vector\n",
            "Pre-processing dev examples...\n",
            "100% 16/16 [00:03<00:00,  4.42it/s]\n",
            "6078 questions in total\n",
            "Converting train examples to indices...\n",
            "130319it [00:39, 3315.01it/s]\n",
            "tcmalloc: large alloc 3326009344 bytes == 0x137fcc000 @  0x7f61785c61e7 0x7f61760cfca1 0x7f6176134778 0x7f6176137ec0 0x7f6176138435 0x7f61761d175d 0x50abc5 0x50c549 0x5081d5 0x50a020 0x50aa1d 0x50c549 0x509ce8 0x50aa1d 0x50c549 0x5081d5 0x50b3a3 0x635082 0x635137 0x6388ef 0x639491 0x4b0f60 0x7f61781c3b97 0x5b2eaa\n",
            "Built 129922 / 130319 instances of features in total\n",
            "Converting dev examples to indices...\n",
            "6078it [00:01, 3144.11it/s]\n",
            "Built 5951 / 6078 instances of features in total\n",
            "Pre-processing test examples...\n",
            "100% 20/20 [00:03<00:00,  6.10it/s]\n",
            "5915 questions in total\n",
            "Saving test eval...\n",
            "Converting test examples to indices...\n",
            "5915it [00:01, 3197.75it/s]\n",
            "Built 5915 / 5915 instances of features in total\n",
            "Saving test meta...\n",
            "Saving word embedding...\n",
            "Saving char embedding...\n",
            "Saving train eval...\n",
            "Saving dev eval...\n",
            "Saving word dictionary...\n",
            "Saving char dictionary...\n",
            "Saving dev meta...\n"
          ],
          "name": "stdout"
        }
      ]
    },
    {
      "cell_type": "markdown",
      "metadata": {
        "id": "RTo98XERKqjT",
        "colab_type": "text"
      },
      "source": [
        "![image.png](data:image/png;base64,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)"
      ]
    },
    {
      "cell_type": "markdown",
      "metadata": {
        "id": "mGgf06PMKdDK",
        "colab_type": "text"
      },
      "source": [
        "![image.png](data:image/png;base64,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)"
      ]
    },
    {
      "cell_type": "code",
      "metadata": {
        "id": "W9Gk4WbnPR8V",
        "colab_type": "code",
        "colab": {}
      },
      "source": [
        "seed = 224\n",
        "random.seed(seed)\n",
        "np.random.seed(seed)\n",
        "torch.manual_seed(seed)\n",
        "torch.cuda.manual_seed_all(seed)"
      ],
      "execution_count": 0,
      "outputs": []
    },
    {
      "cell_type": "code",
      "metadata": {
        "id": "hGYIp8I53_sT",
        "colab_type": "code",
        "colab": {}
      },
      "source": [
        "import os\n",
        "import sys\n",
        "module_path = os.path.abspath(os.path.join('..'))\n",
        "if module_path not in sys.path:\n",
        "    sys.path.append(module_path)\n",
        "    \n",
        "import numpy as np\n",
        "import random\n",
        "import torch\n",
        "import torch.nn as nn\n",
        "import torch.nn.functional as F\n",
        "import torch.optim as optim\n",
        "import torch.optim.lr_scheduler as sched\n",
        "import torch.utils.data as data\n",
        "\n",
        "from squad.util import collate_fn, SQuAD\n",
        "from collections import OrderedDict\n",
        "from json import dumps\n",
        "from tqdm import tqdm\n",
        "from ujson import load as json_load\n",
        "import pytorch_lightning as pl\n",
        "\n",
        "from squad import layers, util\n",
        "import os\n",
        "\n",
        "DIR = os.getcwd()"
      ],
      "execution_count": 0,
      "outputs": []
    },
    {
      "cell_type": "markdown",
      "metadata": {
        "id": "5gz7s9GVMSVv",
        "colab_type": "text"
      },
      "source": [
        "---  \n",
        "## Data (SQuAD)\n",
        "\n",
        "For this exercise we'll use SQuAD\n",
        "\n",
        "Stanford Question Answering Dataset (SQuAD) is a reading comprehension dataset, consisting of questions posed by crowdworkers on a set of Wikipedia articles, where the answer to every question is a segment of text, or span, from the corresponding reading passage, or the question might be unanswerable."
      ]
    },
    {
      "cell_type": "code",
      "metadata": {
        "id": "rJTko7Nc4B1h",
        "colab_type": "code",
        "colab": {}
      },
      "source": [
        "train_path = os.path.join(DIR, 'squad/data/train.npz')\n",
        "train_loader = data.DataLoader(SQuAD(train_path),\n",
        "                               batch_size=64,\n",
        "                               shuffle=True,\n",
        "                               drop_last=True,\n",
        "                               collate_fn=collate_fn)\n"
      ],
      "execution_count": 0,
      "outputs": []
    },
    {
      "cell_type": "code",
      "metadata": {
        "id": "bZQZJDfTNlqt",
        "colab_type": "code",
        "colab": {}
      },
      "source": [
        "dev_path = os.path.join(DIR, 'squad/data/dev.npz')\n",
        "dev_loader = data.DataLoader(SQuAD(dev_path),\n",
        "                               batch_size=64,\n",
        "                               shuffle=True,\n",
        "                               drop_last=True,\n",
        "                               collate_fn=collate_fn)"
      ],
      "execution_count": 0,
      "outputs": []
    },
    {
      "cell_type": "code",
      "metadata": {
        "id": "2xfwRhHqNm7u",
        "colab_type": "code",
        "colab": {}
      },
      "source": [
        "test_path = os.path.join(DIR, 'squad/data/test.npz')\n",
        "test_loader = data.DataLoader(SQuAD(test_path),\n",
        "                               batch_size=64,\n",
        "                               shuffle=True,\n",
        "                               drop_last=True,\n",
        "                               collate_fn=collate_fn)"
      ],
      "execution_count": 0,
      "outputs": []
    },
    {
      "cell_type": "markdown",
      "metadata": {
        "id": "LLfwSubDMkYF",
        "colab_type": "text"
      },
      "source": [
        "--- \n",
        "## Model\n",
        "\n",
        "Here we'll break down the model into 5 components and examine each:\n",
        "1. Embedding\n",
        "2. RNN Encoder\n",
        "3. Attention mechanism\n",
        "4. A second encoder\n",
        "5. The output layer used for QA"
      ]
    },
    {
      "cell_type": "markdown",
      "metadata": {
        "id": "WbBQaZ17Mng3",
        "colab_type": "text"
      },
      "source": [
        "### Hyperparams"
      ]
    },
    {
      "cell_type": "code",
      "metadata": {
        "id": "g18FurWIMiNT",
        "colab_type": "code",
        "colab": {}
      },
      "source": [
        "hidden_size = 64\n",
        "drop_p = 0.2"
      ],
      "execution_count": 0,
      "outputs": []
    },
    {
      "cell_type": "markdown",
      "metadata": {
        "id": "YHsT8jq1Mq0I",
        "colab_type": "text"
      },
      "source": [
        "---\n",
        "#### Embedding   \n",
        "Embedding layer used by BiDAF, without the character-level component.\n",
        "Word-level embeddings are further refined using a 2-layer Highway Encoder (see `HighwayEncoder` class for details).\n",
        "\n",
        "Embedding + projections below\n",
        "\n",
        "```\n",
        "self.embed = nn.Embedding.from_pretrained(word_vectors)\n",
        "self.proj = nn.Linear(word_vectors.size(1), hidden_size, bias=False)\n",
        "self.hwy = HighwayEncoder(2, hidden_size)\n",
        "```"
      ]
    },
    {
      "cell_type": "code",
      "metadata": {
        "id": "xVgyA-B0Mo9s",
        "colab_type": "code",
        "colab": {}
      },
      "source": [
        "# load pretrained vectors\n",
        "globe = os.path.join(DIR, 'squad/data/word_emb.json')\n",
        "word_vectors = util.torch_from_json(globe)\n",
        "\n",
        "# load into embedding layer\n",
        "emb = layers.Embedding(word_vectors=word_vectors, \n",
        "                       hidden_size=hidden_size, \n",
        "                       drop_prob=drop_p)"
      ],
      "execution_count": 0,
      "outputs": []
    },
    {
      "cell_type": "markdown",
      "metadata": {
        "id": "Cmzcv4OzUf8D",
        "colab_type": "text"
      },
      "source": [
        "---\n",
        "#### RNN Encoder   \n",
        "General-purpose layer for encoding a sequence using a bidirectional RNN.\n",
        "    Encoded output is the RNN's hidden state at each position, which\n",
        "    has shape (batch_size, seq_len, hidden_size * 2).\n",
        "\n",
        "```\n",
        "self.rnn = nn.LSTM(input_size, hidden_size, num_layers,\n",
        "                           batch_first=True,\n",
        "                           bidirectional=True,\n",
        "                           dropout=drop_prob if num_layers > 1 else 0.)\n",
        "```"
      ]
    },
    {
      "cell_type": "code",
      "metadata": {
        "id": "3k753mlAMsPm",
        "colab_type": "code",
        "colab": {}
      },
      "source": [
        "enc = layers.RNNEncoder(input_size=hidden_size, \n",
        "                        hidden_size=hidden_size, \n",
        "                        num_layers=1,\n",
        "                        drop_prob=drop_p)"
      ],
      "execution_count": 0,
      "outputs": []
    },
    {
      "cell_type": "markdown",
      "metadata": {
        "id": "gsLM9uclUkZa",
        "colab_type": "text"
      },
      "source": [
        "---\n",
        "#### Attention mechanism   \n",
        " \n",
        " Bidirectional attention computes attention in two directions:\n",
        "    The context attends to the query and the query attends to the context.\n",
        "    The output of this layer is the concatenation of [context, c2q_attention,\n",
        "    context * c2q_attention, context * q2c_attention]. This concatenation allows\n",
        "    the attention vector at each timestep, along with the embeddings from\n",
        "    previous layers, to flow through the attention layer to the modeling layer.\n",
        "\n",
        "In this model, the main idea is bidirectional Flow: ie: context attends to question and question attends to context."
      ]
    },
    {
      "cell_type": "code",
      "metadata": {
        "id": "Onf_dwiCUjDp",
        "colab_type": "code",
        "colab": {}
      },
      "source": [
        "att = layers.BiDAFAttention(hidden_size=2 * hidden_size, drop_prob=drop_p)"
      ],
      "execution_count": 0,
      "outputs": []
    },
    {
      "cell_type": "markdown",
      "metadata": {
        "id": "mY46qV7bUqs8",
        "colab_type": "text"
      },
      "source": [
        "---\n",
        "#### Second encoder\n",
        "This encoder integrates information of the context and question together.\n",
        "\n",
        "```\n",
        "self.rnn = nn.LSTM(input_size, hidden_size, num_layers,\n",
        "                           batch_first=True,\n",
        "                           bidirectional=True,\n",
        "                           dropout=drop_prob if num_layers > 1 else 0.)\n",
        "```"
      ]
    },
    {
      "cell_type": "code",
      "metadata": {
        "id": "G6S-G2W2UnCO",
        "colab_type": "code",
        "colab": {}
      },
      "source": [
        "mod = layers.RNNEncoder(input_size=8 * hidden_size,\n",
        "                                     hidden_size=hidden_size,\n",
        "                                     num_layers=2,\n",
        "                                     drop_prob=drop_p)"
      ],
      "execution_count": 0,
      "outputs": []
    },
    {
      "cell_type": "markdown",
      "metadata": {
        "id": "6XGVk8sjUt3U",
        "colab_type": "text"
      },
      "source": [
        "---\n",
        "#### Output layer\n",
        "\n",
        "Computes a linear transformation of the attention and modeling\n",
        "    outputs, then takes the softmax of the result to get the start pointer.\n",
        "    A bidirectional LSTM is then applied the modeling output to produce `mod_2`.\n",
        "    A second linear+softmax of the attention output and `mod_2` is used\n",
        "    to get the end pointer.\n",
        "\n",
        "Calculate probability over sequence to calculate the probability of a start and end token."
      ]
    },
    {
      "cell_type": "code",
      "metadata": {
        "id": "ajANLhx7UsIn",
        "colab_type": "code",
        "colab": {}
      },
      "source": [
        "out = layers.BiDAFOutput(hidden_size=hidden_size,\n",
        "                                      drop_prob=drop_p)"
      ],
      "execution_count": 0,
      "outputs": []
    },
    {
      "cell_type": "markdown",
      "metadata": {
        "id": "FN5LELENUxra",
        "colab_type": "text"
      },
      "source": [
        "---\n",
        "#### Data explore"
      ]
    },
    {
      "cell_type": "code",
      "metadata": {
        "id": "ncSpNtsHUwGK",
        "colab_type": "code",
        "colab": {}
      },
      "source": [
        "for batch in train_loader:\n",
        "    break\n",
        "\n",
        "cw_idxs, cc_idxs, qw_idxs, qc_idxs, y1, y2, ids = batch "
      ],
      "execution_count": 0,
      "outputs": []
    },
    {
      "cell_type": "code",
      "metadata": {
        "id": "UF5vHQ6WUy6J",
        "colab_type": "code",
        "outputId": "2ee72e6f-95ea-49cc-cc55-ba4ca20e4881",
        "colab": {
          "base_uri": "https://localhost:8080/",
          "height": 136
        }
      },
      "source": [
        "# context idxs\n",
        "print('cw_idxs', cw_idxs.shape)\n",
        "print('cc_idxs', cc_idxs.shape)\n",
        "print('qw_idxs', qw_idxs.shape)\n",
        "print('qc_idxs', qc_idxs.shape)\n",
        "print('y1', y1.shape)\n",
        "print('y2', y2.shape)\n",
        "print('ids', ids.shape)"
      ],
      "execution_count": 0,
      "outputs": [
        {
          "output_type": "stream",
          "text": [
            "cw_idxs torch.Size([32, 221])\n",
            "cc_idxs torch.Size([32, 221, 16])\n",
            "qw_idxs torch.Size([32, 20])\n",
            "qc_idxs torch.Size([32, 20, 16])\n",
            "y1 torch.Size([32])\n",
            "y2 torch.Size([32])\n",
            "ids torch.Size([32])\n"
          ],
          "name": "stdout"
        }
      ]
    },
    {
      "cell_type": "markdown",
      "metadata": {
        "id": "eTSoES2iU3I5",
        "colab_type": "text"
      },
      "source": [
        "#### Forward pass"
      ]
    },
    {
      "cell_type": "code",
      "metadata": {
        "id": "T1m5AlcZU0VX",
        "colab_type": "code",
        "colab": {}
      },
      "source": [
        "# inputs are the context_idxs and context_char_idxs\n",
        "\n",
        "# masks\n",
        "c_mask = torch.zeros_like(cw_idxs) != cw_idxs\n",
        "q_mask = torch.zeros_like(qw_idxs) != qw_idxs"
      ],
      "execution_count": 0,
      "outputs": []
    },
    {
      "cell_type": "code",
      "metadata": {
        "id": "zGnAWXEtVMDO",
        "colab_type": "code",
        "outputId": "2acdd69c-e593-4139-a975-b1550125b276",
        "colab": {
          "base_uri": "https://localhost:8080/",
          "height": 34
        }
      },
      "source": [
        "# get sequence length\n",
        "c_len, q_len = c_mask.sum(-1), q_mask.sum(-1)\n",
        "print(c_len.shape, q_len.shape)"
      ],
      "execution_count": 0,
      "outputs": [
        {
          "output_type": "stream",
          "text": [
            "torch.Size([32]) torch.Size([32])\n"
          ],
          "name": "stdout"
        }
      ]
    },
    {
      "cell_type": "code",
      "metadata": {
        "id": "89PBfD5WVOKj",
        "colab_type": "code",
        "outputId": "4bd13b21-a375-4a2b-d772-15764e3ca819",
        "colab": {
          "base_uri": "https://localhost:8080/",
          "height": 34
        }
      },
      "source": [
        "# embed\n",
        "# (b, c_len, 1) -> (b, c_len, emb_size)\n",
        "# (b, c_len, 1) -> (b, c_len, emb_size)\n",
        "c_emb = emb(cw_idxs)\n",
        "q_emb = emb(qw_idxs)\n",
        "\n",
        "print(c_emb.shape, q_emb.shape)"
      ],
      "execution_count": 0,
      "outputs": [
        {
          "output_type": "stream",
          "text": [
            "torch.Size([32, 221, 64]) torch.Size([32, 20, 64])\n"
          ],
          "name": "stdout"
        }
      ]
    },
    {
      "cell_type": "code",
      "metadata": {
        "id": "Qsr-Ffa2VP2h",
        "colab_type": "code",
        "outputId": "49ee02bb-261a-4685-db4a-31fd2a51b587",
        "colab": {
          "base_uri": "https://localhost:8080/",
          "height": 34
        }
      },
      "source": [
        "# encode each\n",
        "# (b, c_len, emb_size) -> (b, c_len, 2 * hidden_size)\n",
        "\n",
        "c_enc = enc(c_emb, c_len)\n",
        "q_enc = enc(q_emb, q_len)\n",
        "print(c_enc.shape, q_enc.shape)"
      ],
      "execution_count": 0,
      "outputs": [
        {
          "output_type": "stream",
          "text": [
            "torch.Size([32, 221, 128]) torch.Size([32, 20, 128])\n"
          ],
          "name": "stdout"
        }
      ]
    },
    {
      "cell_type": "code",
      "metadata": {
        "id": "N0TUtsawVRAl",
        "colab_type": "code",
        "outputId": "52c8c339-af3e-4244-912d-4732ee63bb78",
        "colab": {
          "base_uri": "https://localhost:8080/",
          "height": 34
        }
      },
      "source": [
        "att_out = att(c_enc, q_enc, c_mask, q_mask)    # (batch_size, c_len, 8 * hidden_size)\n",
        "print(att_out.shape)"
      ],
      "execution_count": 0,
      "outputs": [
        {
          "output_type": "stream",
          "text": [
            "torch.Size([32, 221, 512])\n"
          ],
          "name": "stdout"
        }
      ]
    },
    {
      "cell_type": "code",
      "metadata": {
        "id": "wrsh1XPHVSia",
        "colab_type": "code",
        "colab": {}
      },
      "source": [
        "mod_out = mod(att_out, c_len)\n",
        "full_out = out(att_out, mod_out, c_mask)"
      ],
      "execution_count": 0,
      "outputs": []
    },
    {
      "cell_type": "markdown",
      "metadata": {
        "id": "Uuq-d9UNMpS4",
        "colab_type": "text"
      },
      "source": [
        "---  \n",
        "#### Loss\n",
        "The loss function is the sum of the negative log-likelihood (cross-entropy) loss for the start and\n",
        "end locations."
      ]
    },
    {
      "cell_type": "code",
      "metadata": {
        "id": "2N-ynpetVTmg",
        "colab_type": "code",
        "colab": {}
      },
      "source": [
        "log_p1, log_p2 = full_out\n",
        "loss = F.nll_loss(log_p1, y1) + F.nll_loss(log_p2, y2)"
      ],
      "execution_count": 0,
      "outputs": []
    },
    {
      "cell_type": "code",
      "metadata": {
        "id": "rlcUr4TRVUpk",
        "colab_type": "code",
        "outputId": "85133ab4-62db-49c0-aab1-bf1efa14c1b6",
        "colab": {
          "base_uri": "https://localhost:8080/",
          "height": 34
        }
      },
      "source": [
        "print(loss)"
      ],
      "execution_count": 0,
      "outputs": [
        {
          "output_type": "stream",
          "text": [
            "tensor(9.4978, grad_fn=<AddBackward0>)\n"
          ],
          "name": "stdout"
        }
      ]
    },
    {
      "cell_type": "markdown",
      "metadata": {
        "id": "G__lL8sIVmGO",
        "colab_type": "text"
      },
      "source": [
        "---\n",
        "### Full system\n",
        "Here's the full system which we'll fit to the data now"
      ]
    },
    {
      "cell_type": "code",
      "metadata": {
        "id": "oC83bb0qVjcc",
        "colab_type": "code",
        "colab": {}
      },
      "source": [
        "class BiDAF(pl.LightningModule):\n",
        "    def __init__(self, word_vectors, hidden_size, drop_prob=0.):\n",
        "        super(BiDAF, self).__init__()\n",
        "        self.emb = layers.Embedding(word_vectors=word_vectors,\n",
        "                                    hidden_size=hidden_size,\n",
        "                                    drop_prob=drop_prob)\n",
        "\n",
        "        self.enc = layers.RNNEncoder(input_size=hidden_size,\n",
        "                                     hidden_size=hidden_size,\n",
        "                                     num_layers=1,\n",
        "                                     drop_prob=drop_prob)\n",
        "\n",
        "        self.att = layers.BiDAFAttention(hidden_size=2 * hidden_size,\n",
        "                                         drop_prob=drop_prob)\n",
        "\n",
        "        self.mod = layers.RNNEncoder(input_size=8 * hidden_size,\n",
        "                                     hidden_size=hidden_size,\n",
        "                                     num_layers=2,\n",
        "                                     drop_prob=drop_prob)\n",
        "\n",
        "        self.out = layers.BiDAFOutput(hidden_size=hidden_size,\n",
        "                                      drop_prob=drop_prob)\n",
        "\n",
        "    def loss(self, full_out, y1, y2):\n",
        "        log_p1, log_p2 = full_out\n",
        "        loss = F.nll_loss(log_p1, y1.cuda(0)) + F.nll_loss(log_p2, y2.cuda(0))\n",
        "        return loss\n",
        "\n",
        "# [9, 8, 7, 0, 0] (3)\n",
        "# [9, 0,0,0,0] (1)\n",
        "\n",
        "    def forward(self, cw_idxs, qw_idxs):\n",
        "        c_mask = torch.zeros_like(cw_idxs) != cw_idxs\n",
        "        q_mask = torch.zeros_like(qw_idxs) != qw_idxs\n",
        "        c_len, q_len = c_mask.sum(-1), q_mask.sum(-1)\n",
        "\n",
        "        # fancy embedding\n",
        "        c_emb = self.emb(cw_idxs)         \n",
        "        q_emb = self.emb(qw_idxs)       \n",
        "\n",
        "        # encode the sequence (each one)\n",
        "        c_enc = self.enc(c_emb, c_len)    \n",
        "        q_enc = self.enc(q_emb, q_len)\n",
        "\n",
        "        # context attends question\n",
        "        # and question attends context\n",
        "        att = self.att(c_enc, q_enc,\n",
        "                       c_mask, q_mask)\n",
        "\n",
        "        # integrate information of context and question\n",
        "        mod = self.mod(att, c_len)       \n",
        "\n",
        "        # find span\n",
        "        out = self.out(att, mod, c_mask) \n",
        "        return out\n",
        "        \n",
        "        \n",
        "    def training_step(self, batch, batch_nb):\n",
        "        cw_idxs, cc_idxs, qw_idxs, qc_idxs, y1, y2, ids = batch \n",
        "        out = self.forward(cw_idxs, qw_idxs)\n",
        "        loss = self.loss(out, y1, y2)\n",
        "        return {\n",
        "            'loss': loss,\n",
        "            'log': {'train_loss': loss},\n",
        "            'progress_bar': {'train_loss': loss}\n",
        "        }\n",
        "    \n",
        "    def configure_optimizers(self):\n",
        "        optimizer = optim.Adadelta(self.parameters(), 0.5,\n",
        "                               weight_decay=0)\n",
        "        scheduler = sched.LambdaLR(optimizer, lambda s: 1.)  # Constant LR\n",
        "        return [optimizer], [scheduler]\n",
        "\n",
        "    @pl.data_loader\n",
        "    def train_dataloader(self):\n",
        "        # REQUIRED\n",
        "        return train_loader\n",
        "    \n",
        "    @pl.data_loader\n",
        "    def val_dataloader(self):\n",
        "        # OPTIONAL\n",
        "        return dev_loader\n",
        "\n",
        "    @pl.data_loader\n",
        "    def test_dataloader(self):\n",
        "        # OPTIONAL\n",
        "        return test_loader"
      ],
      "execution_count": 0,
      "outputs": []
    },
    {
      "cell_type": "markdown",
      "metadata": {
        "id": "FLJkQ_ScVqCh",
        "colab_type": "text"
      },
      "source": [
        "### Fit"
      ]
    },
    {
      "cell_type": "code",
      "metadata": {
        "id": "k72dWndAVlDZ",
        "colab_type": "code",
        "colab": {}
      },
      "source": [
        "model = BiDAF(word_vectors, 512, 0.2)"
      ],
      "execution_count": 0,
      "outputs": []
    },
    {
      "cell_type": "code",
      "metadata": {
        "id": "zQEQIJaDVrSN",
        "colab_type": "code",
        "colab": {}
      },
      "source": [
        "trainer = pl.Trainer(gpus=1)"
      ],
      "execution_count": 0,
      "outputs": []
    },
    {
      "cell_type": "code",
      "metadata": {
        "id": "11L_h3FKVsXS",
        "colab_type": "code",
        "outputId": "7eee8c7e-3628-4d79-88a3-ac03650241c8",
        "colab": {
          "base_uri": "https://localhost:8080/",
          "height": 34
        }
      },
      "source": [
        "trainer.fit(model)"
      ],
      "execution_count": 0,
      "outputs": [
        {
          "output_type": "stream",
          "text": [
            "Epoch 1:  27%|██▋       | 1125/4245 [07:43<21:55,  2.37batch/s, batch_nb=1124, gpu=0, loss=6.369, train_loss=6.77, v_nb=6]"
          ],
          "name": "stderr"
        }
      ]
    },
    {
      "cell_type": "markdown",
      "metadata": {
        "id": "srYdnTpQJ5ss",
        "colab_type": "text"
      },
      "source": [
        "---   \n",
        "#### Prediction\n",
        "To predict, we discretize the soft predictions of the model to get start and end indices. We choose\n",
        "the pair (i, j) of indices that maximizes pstart(i) · pend(j) subject to i ≤ j and j − i + 1 ≤ Lmax,\n",
        "where Lmax is a hyperparameter which sets the maximum length of a predicted answer. We set\n",
        "Lmax to 15 by default."
      ]
    },
    {
      "cell_type": "code",
      "metadata": {
        "id": "rXxJKFklJ4_o",
        "colab_type": "code",
        "colab": {}
      },
      "source": [
        "def evaluate(model, data_loader, device, eval_file, max_len, use_squad_v2):\n",
        "    nll_meter = util.AverageMeter()\n",
        "\n",
        "    model.eval()\n",
        "    pred_dict = {}\n",
        "    with open(eval_file, 'r') as fh:\n",
        "        gold_dict = json_load(fh)\n",
        "    with torch.no_grad(), \\\n",
        "            tqdm(total=len(data_loader.dataset)) as progress_bar:\n",
        "        for cw_idxs, cc_idxs, qw_idxs, qc_idxs, y1, y2, ids in data_loader:\n",
        "            # Setup for forward\n",
        "            cw_idxs = cw_idxs.to(device)\n",
        "            qw_idxs = qw_idxs.to(device)\n",
        "            batch_size = cw_idxs.size(0)\n",
        "\n",
        "            # Forward\n",
        "            log_p1, log_p2 = model(cw_idxs, qw_idxs)\n",
        "            y1, y2 = y1.to(device), y2.to(device)\n",
        "            loss = F.nll_loss(log_p1, y1) + F.nll_loss(log_p2, y2)\n",
        "            nll_meter.update(loss.item(), batch_size)\n",
        "\n",
        "            # Get F1 and EM scores\n",
        "            p1, p2 = log_p1.exp(), log_p2.exp()\n",
        "            starts, ends = util.discretize(p1, p2, max_len, use_squad_v2)\n",
        "\n",
        "            # Log info\n",
        "            progress_bar.update(batch_size)\n",
        "            progress_bar.set_postfix(NLL=nll_meter.avg)\n",
        "\n",
        "            preds, _ = util.convert_tokens(gold_dict,\n",
        "                                           ids.tolist(),\n",
        "                                           starts.tolist(),\n",
        "                                           ends.tolist(),\n",
        "                                           use_squad_v2)\n",
        "            pred_dict.update(preds)\n",
        "\n",
        "    model.train()\n",
        "\n",
        "    results = util.eval_dicts(gold_dict, pred_dict, use_squad_v2)\n",
        "    results_list = [('NLL', nll_meter.avg),\n",
        "                    ('F1', results['F1']),\n",
        "                    ('EM', results['EM'])]\n",
        "    if use_squad_v2:\n",
        "        results_list.append(('AvNA', results['AvNA']))\n",
        "    results = OrderedDict(results_list)\n",
        "\n",
        "    return results, pred_dict"
      ],
      "execution_count": 0,
      "outputs": []
    },
    {
      "cell_type": "code",
      "metadata": {
        "id": "CHCg_y80VvE9",
        "colab_type": "code",
        "colab": {}
      },
      "source": [
        "# TODO: how to ensure second logit is larger"
      ],
      "execution_count": 0,
      "outputs": []
    },
    {
      "cell_type": "code",
      "metadata": {
        "id": "k9VED8Qqne_y",
        "colab_type": "code",
        "colab": {}
      },
      "source": [
        ""
      ],
      "execution_count": 0,
      "outputs": []
    }
  ]
}